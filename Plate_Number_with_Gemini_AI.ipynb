{
  "nbformat": 4,
  "nbformat_minor": 0,
  "metadata": {
    "colab": {
      "provenance": []
    },
    "kernelspec": {
      "name": "python3",
      "display_name": "Python 3"
    },
    "language_info": {
      "name": "python"
    }
  },
  "cells": [
    {
      "cell_type": "code",
      "source": [
        "import google.generativeai as genai\n",
        "from IPython.display import Markdown"
      ],
      "metadata": {
        "id": "6DNYWfmsfXsO"
      },
      "execution_count": 3,
      "outputs": []
    },
    {
      "cell_type": "code",
      "source": [
        "from google.colab import userdata\n",
        "GOOGLE_API_KEY=userdata.get('GOOGLE_API_KEY')\n",
        "\n",
        "genai.configure(api_key=GOOGLE_API_KEY)"
      ],
      "metadata": {
        "id": "cc9XJpgLfcjd"
      },
      "execution_count": 5,
      "outputs": []
    },
    {
      "cell_type": "code",
      "execution_count": 17,
      "metadata": {
        "id": "J3Hh8Vu3eMlT"
      },
      "outputs": [],
      "source": [
        "import PIL.Image\n",
        "\n",
        "file = PIL.Image.open('car.jpg')"
      ]
    },
    {
      "cell_type": "code",
      "source": [
        "import google.generativeai as genai\n",
        "\n",
        "# Choose a Gemini model.\n",
        "model = genai.GenerativeModel(model_name=\"gemini-1.5-pro-latest\")\n",
        "\n",
        "# Create a prompt.\n",
        "prompt = \"Analyze an image of a vehicle's license plate and provide the output as a JSON object in the following format: { 'plat_no': 'B 1234 ABC', 'vehicle': 'car', 'vehicle_type': 'sedan', 'color': 'red', 'expiry_data' : '07 - 17' ,'gate_open': '2024-12-02 18.15.01', 'gate_closed': 'N/A' }. Return only the JSON object as the output.\"\n",
        "\n",
        "response = model.generate_content([file, prompt])\n",
        "\n",
        "Markdown(response.text)"
      ],
      "metadata": {
        "colab": {
          "base_uri": "https://localhost:8080/",
          "height": 173
        },
        "id": "1ctI3ei_fKAO",
        "outputId": "82284212-d10d-49c1-f46c-a6bd502ff378"
      },
      "execution_count": 20,
      "outputs": [
        {
          "output_type": "execute_result",
          "data": {
            "text/plain": [
              "<IPython.core.display.Markdown object>"
            ],
            "text/markdown": "```json\n{\n  \"plat_no\": \"B 1308 RFK\",\n  \"vehicle\": \"car\",\n  \"vehicle_type\": \"SUV\",\n  \"color\": \"black\",\n  \"expiry_data\": \"04-26\",\n  \"gate_open\": \"N/A\",\n  \"gate_closed\": \"N/A\"\n}\n```"
          },
          "metadata": {},
          "execution_count": 20
        }
      ]
    }
  ]
}